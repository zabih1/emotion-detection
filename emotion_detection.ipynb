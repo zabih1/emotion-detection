{
 "cells": [
  {
   "cell_type": "code",
   "execution_count": 2,
   "id": "91320cc1",
   "metadata": {},
   "outputs": [],
   "source": [
    "import numpy as np\n",
    "import pandas as pd\n",
    "from sklearn.model_selection import train_test_split\n",
    "import re\n",
    "import nltk\n",
    "import string \n",
    "from nltk.stem import SnowballStemmer, WordNetLemmatizer\n",
    "from sklearn.feature_extraction.text import CountVectorizer\n",
    "\n",
    "\n",
    "import xgboost as xgb\n",
    "from sklearn.metrics import accuracy_score\n",
    "from sklearn.metrics import precision_score, recall_score, roc_auc_score\n",
    "\n"
   ]
  },
  {
   "cell_type": "code",
   "execution_count": 3,
   "id": "f9b8ae6f",
   "metadata": {},
   "outputs": [
    {
     "data": {
      "application/vnd.microsoft.datawrangler.viewer.v0+json": {
       "columns": [
        {
         "name": "index",
         "rawType": "int64",
         "type": "integer"
        },
        {
         "name": "tweet_id",
         "rawType": "int64",
         "type": "integer"
        },
        {
         "name": "sentiment",
         "rawType": "object",
         "type": "string"
        },
        {
         "name": "content",
         "rawType": "object",
         "type": "string"
        }
       ],
       "conversionMethod": "pd.DataFrame",
       "ref": "2449dc51-62fd-4035-ad31-43b9a3aa78fb",
       "rows": [
        [
         "0",
         "1956967341",
         "empty",
         "@tiffanylue i know  i was listenin to bad habit earlier and i started freakin at his part =["
        ],
        [
         "1",
         "1956967666",
         "sadness",
         "Layin n bed with a headache  ughhhh...waitin on your call..."
        ],
        [
         "2",
         "1956967696",
         "sadness",
         "Funeral ceremony...gloomy friday..."
        ],
        [
         "3",
         "1956967789",
         "enthusiasm",
         "wants to hang out with friends SOON!"
        ],
        [
         "4",
         "1956968416",
         "neutral",
         "@dannycastillo We want to trade with someone who has Houston tickets, but no one will."
        ]
       ],
       "shape": {
        "columns": 3,
        "rows": 5
       }
      },
      "text/html": [
       "<div>\n",
       "<style scoped>\n",
       "    .dataframe tbody tr th:only-of-type {\n",
       "        vertical-align: middle;\n",
       "    }\n",
       "\n",
       "    .dataframe tbody tr th {\n",
       "        vertical-align: top;\n",
       "    }\n",
       "\n",
       "    .dataframe thead th {\n",
       "        text-align: right;\n",
       "    }\n",
       "</style>\n",
       "<table border=\"1\" class=\"dataframe\">\n",
       "  <thead>\n",
       "    <tr style=\"text-align: right;\">\n",
       "      <th></th>\n",
       "      <th>tweet_id</th>\n",
       "      <th>sentiment</th>\n",
       "      <th>content</th>\n",
       "    </tr>\n",
       "  </thead>\n",
       "  <tbody>\n",
       "    <tr>\n",
       "      <th>0</th>\n",
       "      <td>1956967341</td>\n",
       "      <td>empty</td>\n",
       "      <td>@tiffanylue i know  i was listenin to bad habi...</td>\n",
       "    </tr>\n",
       "    <tr>\n",
       "      <th>1</th>\n",
       "      <td>1956967666</td>\n",
       "      <td>sadness</td>\n",
       "      <td>Layin n bed with a headache  ughhhh...waitin o...</td>\n",
       "    </tr>\n",
       "    <tr>\n",
       "      <th>2</th>\n",
       "      <td>1956967696</td>\n",
       "      <td>sadness</td>\n",
       "      <td>Funeral ceremony...gloomy friday...</td>\n",
       "    </tr>\n",
       "    <tr>\n",
       "      <th>3</th>\n",
       "      <td>1956967789</td>\n",
       "      <td>enthusiasm</td>\n",
       "      <td>wants to hang out with friends SOON!</td>\n",
       "    </tr>\n",
       "    <tr>\n",
       "      <th>4</th>\n",
       "      <td>1956968416</td>\n",
       "      <td>neutral</td>\n",
       "      <td>@dannycastillo We want to trade with someone w...</td>\n",
       "    </tr>\n",
       "  </tbody>\n",
       "</table>\n",
       "</div>"
      ],
      "text/plain": [
       "     tweet_id   sentiment                                            content\n",
       "0  1956967341       empty  @tiffanylue i know  i was listenin to bad habi...\n",
       "1  1956967666     sadness  Layin n bed with a headache  ughhhh...waitin o...\n",
       "2  1956967696     sadness                Funeral ceremony...gloomy friday...\n",
       "3  1956967789  enthusiasm               wants to hang out with friends SOON!\n",
       "4  1956968416     neutral  @dannycastillo We want to trade with someone w..."
      ]
     },
     "execution_count": 3,
     "metadata": {},
     "output_type": "execute_result"
    }
   ],
   "source": [
    "df = pd.read_csv('https://raw.githubusercontent.com/campusx-official/jupyter-masterclass/main/tweet_emotions.csv')\n",
    "\n",
    "df.head()"
   ]
  },
  {
   "cell_type": "code",
   "execution_count": 5,
   "id": "3d3dcb03",
   "metadata": {},
   "outputs": [
    {
     "data": {
      "application/vnd.microsoft.datawrangler.viewer.v0+json": {
       "columns": [
        {
         "name": "index",
         "rawType": "int64",
         "type": "integer"
        },
        {
         "name": "sentiment",
         "rawType": "object",
         "type": "string"
        },
        {
         "name": "content",
         "rawType": "object",
         "type": "string"
        }
       ],
       "conversionMethod": "pd.DataFrame",
       "ref": "53a54523-e049-4933-bf1b-8d40fda0088e",
       "rows": [
        [
         "0",
         "empty",
         "@tiffanylue i know  i was listenin to bad habit earlier and i started freakin at his part =["
        ],
        [
         "1",
         "sadness",
         "Layin n bed with a headache  ughhhh...waitin on your call..."
        ],
        [
         "2",
         "sadness",
         "Funeral ceremony...gloomy friday..."
        ],
        [
         "3",
         "enthusiasm",
         "wants to hang out with friends SOON!"
        ],
        [
         "4",
         "neutral",
         "@dannycastillo We want to trade with someone who has Houston tickets, but no one will."
        ],
        [
         "5",
         "worry",
         "Re-pinging @ghostridah14: why didn't you go to prom? BC my bf didn't like my friends"
        ],
        [
         "6",
         "sadness",
         "I should be sleep, but im not! thinking about an old friend who I want. but he's married now. damn, &amp; he wants me 2! scandalous!"
        ],
        [
         "7",
         "worry",
         "Hmmm. http://www.djhero.com/ is down"
        ],
        [
         "8",
         "sadness",
         "@charviray Charlene my love. I miss you"
        ],
        [
         "9",
         "sadness",
         "@kelcouch I'm sorry  at least it's Friday?"
        ],
        [
         "10",
         "neutral",
         "cant fall asleep"
        ],
        [
         "11",
         "worry",
         "Choked on her retainers"
        ],
        [
         "12",
         "sadness",
         "Ugh! I have to beat this stupid song to get to the next  rude!"
        ],
        [
         "13",
         "sadness",
         "@BrodyJenner if u watch the hills in london u will realise what tourture it is because were weeks and weeks late  i just watch itonlinelol"
        ],
        [
         "14",
         "surprise",
         "Got the news"
        ],
        [
         "15",
         "sadness",
         "The storm is here and the electricity is gone"
        ],
        [
         "16",
         "love",
         "@annarosekerr agreed"
        ],
        [
         "17",
         "sadness",
         "So sleepy again and it's not even that late. I fail once again."
        ],
        [
         "18",
         "worry",
         "@PerezHilton lady gaga tweeted about not being impressed by her video leaking just so you know"
        ],
        [
         "19",
         "sadness",
         "How are YOU convinced that I have always wanted you? What signals did I give off...damn I think I just lost another friend"
        ],
        [
         "20",
         "worry",
         "@raaaaaaek oh too bad! I hope it gets better. I've been having sleep issues lately too"
        ],
        [
         "21",
         "fun",
         "Wondering why I'm awake at 7am,writing a new song,plotting my evil secret plots muahahaha...oh damn it,not secret anymore"
        ],
        [
         "22",
         "neutral",
         "No Topic Maps talks at the Balisage Markup Conference 2009   Program online at http://tr.im/mL6Z (via @bobdc) #topicmaps"
        ],
        [
         "23",
         "worry",
         "I ate Something I don't know what it is... Why do I keep Telling things about food"
        ],
        [
         "24",
         "sadness",
         "so tired and i think i'm definitely going to get an ear infection.  going to bed &quot;early&quot; for once."
        ],
        [
         "25",
         "worry",
         "On my way home n having 2 deal w underage girls drinking gin on da bus while talking bout keggers......damn i feel old"
        ],
        [
         "26",
         "sadness",
         "@IsaacMascote  i'm sorry people are so rude to you, isaac, they should get some manners and know better than to be so lewd!"
        ],
        [
         "27",
         "worry",
         "Damm servers still down  i need to hit 80 before all the koxpers pass me"
        ],
        [
         "28",
         "sadness",
         "Fudge.... Just BS'd that whole paper.... So tired.... Ugh I hate school.....  time to sleep!!!!!!!!!!!"
        ],
        [
         "29",
         "worry",
         "I HATE CANCER. I HATE IT I HATE IT I HATE IT."
        ],
        [
         "30",
         "hate",
         "It is so annoying when she starts typing on her computer in the middle of the night!"
        ],
        [
         "31",
         "neutral",
         "@cynthia_123 i cant sleep"
        ],
        [
         "32",
         "neutral",
         "I missed the bl***y bus!!!!!!!!"
        ],
        [
         "33",
         "neutral",
         "feels strong contractions but wants to go out.  http://plurk.com/p/wxidk"
        ],
        [
         "34",
         "neutral",
         "SoCal!  stoked. or maybe not.. tomorrow"
        ],
        [
         "35",
         "neutral",
         "Screw you @davidbrussee! I only have 3 weeks..."
        ],
        [
         "36",
         "sadness",
         "@ether_radio yeah :S i feel all funny cause i haven't slept enough  i woke my mum up cause i was singing she's not impressed :S you?"
        ],
        [
         "37",
         "worry",
         "I need skott right now"
        ],
        [
         "38",
         "neutral",
         "has work this afternoon"
        ],
        [
         "39",
         "neutral",
         "@GABBYiSACTiVE Aw you would not unfollow me would you? Then I would cry"
        ],
        [
         "40",
         "happiness",
         "mmm much better day... so far! it's still quite early. last day of #uds"
        ],
        [
         "41",
         "fun",
         "@DavidArchie &lt;3 your gonna be the first  twitter ;) cause your amazing lol. come to canada  would do anything to see you perform"
        ],
        [
         "42",
         "worry",
         "just picked up her Blackberry from the middle of the street! Both she and it are crushed!"
        ],
        [
         "43",
         "worry",
         "Why do I have the feeling I should be packing and hitting for SFO around this time of the year? I think I'm missing something..."
        ],
        [
         "44",
         "empty",
         "@creyes middle school and elem. High schools will remain open for those who need credits to graduate. Cali is broken"
        ],
        [
         "45",
         "worry",
         "Bed!!!!!... its time,..... hope i go to school tomorrow, all though i don't feel very well right now"
        ],
        [
         "46",
         "worry",
         "@onscrn Ahh.  ... Well, I was hoping that I could learn some stuff on the way. ... Why not you and I work on separate things but also"
        ],
        [
         "47",
         "sadness",
         "I'm having a problem with my photo here in twitter amf!!!...can't see my face!"
        ],
        [
         "48",
         "neutral",
         "@jakeboyd, oh noooo!  if i blow a tire you're reaaaally going to have to send up some batman smoke."
        ],
        [
         "49",
         "neutral",
         "wnna take a bath!!!!"
        ]
       ],
       "shape": {
        "columns": 2,
        "rows": 40000
       }
      },
      "text/html": [
       "<div>\n",
       "<style scoped>\n",
       "    .dataframe tbody tr th:only-of-type {\n",
       "        vertical-align: middle;\n",
       "    }\n",
       "\n",
       "    .dataframe tbody tr th {\n",
       "        vertical-align: top;\n",
       "    }\n",
       "\n",
       "    .dataframe thead th {\n",
       "        text-align: right;\n",
       "    }\n",
       "</style>\n",
       "<table border=\"1\" class=\"dataframe\">\n",
       "  <thead>\n",
       "    <tr style=\"text-align: right;\">\n",
       "      <th></th>\n",
       "      <th>sentiment</th>\n",
       "      <th>content</th>\n",
       "    </tr>\n",
       "  </thead>\n",
       "  <tbody>\n",
       "    <tr>\n",
       "      <th>0</th>\n",
       "      <td>empty</td>\n",
       "      <td>@tiffanylue i know  i was listenin to bad habi...</td>\n",
       "    </tr>\n",
       "    <tr>\n",
       "      <th>1</th>\n",
       "      <td>sadness</td>\n",
       "      <td>Layin n bed with a headache  ughhhh...waitin o...</td>\n",
       "    </tr>\n",
       "    <tr>\n",
       "      <th>2</th>\n",
       "      <td>sadness</td>\n",
       "      <td>Funeral ceremony...gloomy friday...</td>\n",
       "    </tr>\n",
       "    <tr>\n",
       "      <th>3</th>\n",
       "      <td>enthusiasm</td>\n",
       "      <td>wants to hang out with friends SOON!</td>\n",
       "    </tr>\n",
       "    <tr>\n",
       "      <th>4</th>\n",
       "      <td>neutral</td>\n",
       "      <td>@dannycastillo We want to trade with someone w...</td>\n",
       "    </tr>\n",
       "    <tr>\n",
       "      <th>...</th>\n",
       "      <td>...</td>\n",
       "      <td>...</td>\n",
       "    </tr>\n",
       "    <tr>\n",
       "      <th>39995</th>\n",
       "      <td>neutral</td>\n",
       "      <td>@JohnLloydTaylor</td>\n",
       "    </tr>\n",
       "    <tr>\n",
       "      <th>39996</th>\n",
       "      <td>love</td>\n",
       "      <td>Happy Mothers Day  All my love</td>\n",
       "    </tr>\n",
       "    <tr>\n",
       "      <th>39997</th>\n",
       "      <td>love</td>\n",
       "      <td>Happy Mother's Day to all the mommies out ther...</td>\n",
       "    </tr>\n",
       "    <tr>\n",
       "      <th>39998</th>\n",
       "      <td>happiness</td>\n",
       "      <td>@niariley WASSUP BEAUTIFUL!!! FOLLOW ME!!  PEE...</td>\n",
       "    </tr>\n",
       "    <tr>\n",
       "      <th>39999</th>\n",
       "      <td>love</td>\n",
       "      <td>@mopedronin bullet train from tokyo    the gf ...</td>\n",
       "    </tr>\n",
       "  </tbody>\n",
       "</table>\n",
       "<p>40000 rows × 2 columns</p>\n",
       "</div>"
      ],
      "text/plain": [
       "        sentiment                                            content\n",
       "0           empty  @tiffanylue i know  i was listenin to bad habi...\n",
       "1         sadness  Layin n bed with a headache  ughhhh...waitin o...\n",
       "2         sadness                Funeral ceremony...gloomy friday...\n",
       "3      enthusiasm               wants to hang out with friends SOON!\n",
       "4         neutral  @dannycastillo We want to trade with someone w...\n",
       "...           ...                                                ...\n",
       "39995     neutral                                   @JohnLloydTaylor\n",
       "39996        love                     Happy Mothers Day  All my love\n",
       "39997        love  Happy Mother's Day to all the mommies out ther...\n",
       "39998   happiness  @niariley WASSUP BEAUTIFUL!!! FOLLOW ME!!  PEE...\n",
       "39999        love  @mopedronin bullet train from tokyo    the gf ...\n",
       "\n",
       "[40000 rows x 2 columns]"
      ]
     },
     "execution_count": 5,
     "metadata": {},
     "output_type": "execute_result"
    }
   ],
   "source": [
    "df.drop(columns=['tweet_id'], inplace=True)\n",
    "df"
   ]
  },
  {
   "cell_type": "code",
   "execution_count": null,
   "id": "2a54277b",
   "metadata": {},
   "outputs": [],
   "source": []
  }
 ],
 "metadata": {
  "kernelspec": {
   "display_name": "base",
   "language": "python",
   "name": "python3"
  },
  "language_info": {
   "codemirror_mode": {
    "name": "ipython",
    "version": 3
   },
   "file_extension": ".py",
   "mimetype": "text/x-python",
   "name": "python",
   "nbconvert_exporter": "python",
   "pygments_lexer": "ipython3",
   "version": "3.12.7"
  }
 },
 "nbformat": 4,
 "nbformat_minor": 5
}
