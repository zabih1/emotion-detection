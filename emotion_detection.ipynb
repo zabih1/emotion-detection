{
 "cells": [
  {
   "cell_type": "code",
   "execution_count": 2,
   "id": "91320cc1",
   "metadata": {},
   "outputs": [],
   "source": [
    "import numpy as np\n",
    "import pandas as pd\n",
    "from sklearn.model_selection import train_test_split\n",
    "import re\n",
    "import nltk\n",
    "import string \n",
    "from nltk.stem import SnowballStemmer, WordNetLemmatizer\n",
    "from sklearn.feature_extraction.text import CountVectorizer\n",
    "\n",
    "\n",
    "import xgboost as xgb\n",
    "from sklearn.metrics import accuracy_score\n",
    "from sklearn.metrics import precision_score, recall_score, roc_auc_score\n",
    "\n"
   ]
  },
  {
   "cell_type": "code",
   "execution_count": 3,
   "id": "f9b8ae6f",
   "metadata": {},
   "outputs": [
    {
     "data": {
      "application/vnd.microsoft.datawrangler.viewer.v0+json": {
       "columns": [
        {
         "name": "index",
         "rawType": "int64",
         "type": "integer"
        },
        {
         "name": "tweet_id",
         "rawType": "int64",
         "type": "integer"
        },
        {
         "name": "sentiment",
         "rawType": "object",
         "type": "string"
        },
        {
         "name": "content",
         "rawType": "object",
         "type": "string"
        }
       ],
       "conversionMethod": "pd.DataFrame",
       "ref": "2449dc51-62fd-4035-ad31-43b9a3aa78fb",
       "rows": [
        [
         "0",
         "1956967341",
         "empty",
         "@tiffanylue i know  i was listenin to bad habit earlier and i started freakin at his part =["
        ],
        [
         "1",
         "1956967666",
         "sadness",
         "Layin n bed with a headache  ughhhh...waitin on your call..."
        ],
        [
         "2",
         "1956967696",
         "sadness",
         "Funeral ceremony...gloomy friday..."
        ],
        [
         "3",
         "1956967789",
         "enthusiasm",
         "wants to hang out with friends SOON!"
        ],
        [
         "4",
         "1956968416",
         "neutral",
         "@dannycastillo We want to trade with someone who has Houston tickets, but no one will."
        ]
       ],
       "shape": {
        "columns": 3,
        "rows": 5
       }
      },
      "text/html": [
       "<div>\n",
       "<style scoped>\n",
       "    .dataframe tbody tr th:only-of-type {\n",
       "        vertical-align: middle;\n",
       "    }\n",
       "\n",
       "    .dataframe tbody tr th {\n",
       "        vertical-align: top;\n",
       "    }\n",
       "\n",
       "    .dataframe thead th {\n",
       "        text-align: right;\n",
       "    }\n",
       "</style>\n",
       "<table border=\"1\" class=\"dataframe\">\n",
       "  <thead>\n",
       "    <tr style=\"text-align: right;\">\n",
       "      <th></th>\n",
       "      <th>tweet_id</th>\n",
       "      <th>sentiment</th>\n",
       "      <th>content</th>\n",
       "    </tr>\n",
       "  </thead>\n",
       "  <tbody>\n",
       "    <tr>\n",
       "      <th>0</th>\n",
       "      <td>1956967341</td>\n",
       "      <td>empty</td>\n",
       "      <td>@tiffanylue i know  i was listenin to bad habi...</td>\n",
       "    </tr>\n",
       "    <tr>\n",
       "      <th>1</th>\n",
       "      <td>1956967666</td>\n",
       "      <td>sadness</td>\n",
       "      <td>Layin n bed with a headache  ughhhh...waitin o...</td>\n",
       "    </tr>\n",
       "    <tr>\n",
       "      <th>2</th>\n",
       "      <td>1956967696</td>\n",
       "      <td>sadness</td>\n",
       "      <td>Funeral ceremony...gloomy friday...</td>\n",
       "    </tr>\n",
       "    <tr>\n",
       "      <th>3</th>\n",
       "      <td>1956967789</td>\n",
       "      <td>enthusiasm</td>\n",
       "      <td>wants to hang out with friends SOON!</td>\n",
       "    </tr>\n",
       "    <tr>\n",
       "      <th>4</th>\n",
       "      <td>1956968416</td>\n",
       "      <td>neutral</td>\n",
       "      <td>@dannycastillo We want to trade with someone w...</td>\n",
       "    </tr>\n",
       "  </tbody>\n",
       "</table>\n",
       "</div>"
      ],
      "text/plain": [
       "     tweet_id   sentiment                                            content\n",
       "0  1956967341       empty  @tiffanylue i know  i was listenin to bad habi...\n",
       "1  1956967666     sadness  Layin n bed with a headache  ughhhh...waitin o...\n",
       "2  1956967696     sadness                Funeral ceremony...gloomy friday...\n",
       "3  1956967789  enthusiasm               wants to hang out with friends SOON!\n",
       "4  1956968416     neutral  @dannycastillo We want to trade with someone w..."
      ]
     },
     "execution_count": 3,
     "metadata": {},
     "output_type": "execute_result"
    }
   ],
   "source": [
    "df = pd.read_csv('https://raw.githubusercontent.com/campusx-official/jupyter-masterclass/main/tweet_emotions.csv')\n",
    "\n",
    "df.head()"
   ]
  },
  {
   "cell_type": "code",
   "execution_count": 5,
   "id": "3d3dcb03",
   "metadata": {},
   "outputs": [
    {
     "data": {
      "application/vnd.microsoft.datawrangler.viewer.v0+json": {
       "columns": [
        {
         "name": "index",
         "rawType": "int64",
         "type": "integer"
        },
        {
         "name": "sentiment",
         "rawType": "object",
         "type": "string"
        },
        {
         "name": "content",
         "rawType": "object",
         "type": "string"
        }
       ],
       "conversionMethod": "pd.DataFrame",
       "ref": "53a54523-e049-4933-bf1b-8d40fda0088e",
       "rows": [
        [
         "0",
         "empty",
         "@tiffanylue i know  i was listenin to bad habit earlier and i started freakin at his part =["
        ],
        [
         "1",
         "sadness",
         "Layin n bed with a headache  ughhhh...waitin on your call..."
        ],
        [
         "2",
         "sadness",
         "Funeral ceremony...gloomy friday..."
        ],
        [
         "3",
         "enthusiasm",
         "wants to hang out with friends SOON!"
        ],
        [
         "4",
         "neutral",
         "@dannycastillo We want to trade with someone who has Houston tickets, but no one will."
        ],
        [
         "5",
         "worry",
         "Re-pinging @ghostridah14: why didn't you go to prom? BC my bf didn't like my friends"
        ],
        [
         "6",
         "sadness",
         "I should be sleep, but im not! thinking about an old friend who I want. but he's married now. damn, &amp; he wants me 2! scandalous!"
        ],
        [
         "7",
         "worry",
         "Hmmm. http://www.djhero.com/ is down"
        ],
        [
         "8",
         "sadness",
         "@charviray Charlene my love. I miss you"
        ],
        [
         "9",
         "sadness",
         "@kelcouch I'm sorry  at least it's Friday?"
        ],
        [
         "10",
         "neutral",
         "cant fall asleep"
        ],
        [
         "11",
         "worry",
         "Choked on her retainers"
        ],
        [
         "12",
         "sadness",
         "Ugh! I have to beat this stupid song to get to the next  rude!"
        ],
        [
         "13",
         "sadness",
         "@BrodyJenner if u watch the hills in london u will realise what tourture it is because were weeks and weeks late  i just watch itonlinelol"
        ],
        [
         "14",
         "surprise",
         "Got the news"
        ],
        [
         "15",
         "sadness",
         "The storm is here and the electricity is gone"
        ],
        [
         "16",
         "love",
         "@annarosekerr agreed"
        ],
        [
         "17",
         "sadness",
         "So sleepy again and it's not even that late. I fail once again."
        ],
        [
         "18",
         "worry",
         "@PerezHilton lady gaga tweeted about not being impressed by her video leaking just so you know"
        ],
        [
         "19",
         "sadness",
         "How are YOU convinced that I have always wanted you? What signals did I give off...damn I think I just lost another friend"
        ],
        [
         "20",
         "worry",
         "@raaaaaaek oh too bad! I hope it gets better. I've been having sleep issues lately too"
        ],
        [
         "21",
         "fun",
         "Wondering why I'm awake at 7am,writing a new song,plotting my evil secret plots muahahaha...oh damn it,not secret anymore"
        ],
        [
         "22",
         "neutral",
         "No Topic Maps talks at the Balisage Markup Conference 2009   Program online at http://tr.im/mL6Z (via @bobdc) #topicmaps"
        ],
        [
         "23",
         "worry",
         "I ate Something I don't know what it is... Why do I keep Telling things about food"
        ],
        [
         "24",
         "sadness",
         "so tired and i think i'm definitely going to get an ear infection.  going to bed &quot;early&quot; for once."
        ],
        [
         "25",
         "worry",
         "On my way home n having 2 deal w underage girls drinking gin on da bus while talking bout keggers......damn i feel old"
        ],
        [
         "26",
         "sadness",
         "@IsaacMascote  i'm sorry people are so rude to you, isaac, they should get some manners and know better than to be so lewd!"
        ],
        [
         "27",
         "worry",
         "Damm servers still down  i need to hit 80 before all the koxpers pass me"
        ],
        [
         "28",
         "sadness",
         "Fudge.... Just BS'd that whole paper.... So tired.... Ugh I hate school.....  time to sleep!!!!!!!!!!!"
        ],
        [
         "29",
         "worry",
         "I HATE CANCER. I HATE IT I HATE IT I HATE IT."
        ],
        [
         "30",
         "hate",
         "It is so annoying when she starts typing on her computer in the middle of the night!"
        ],
        [
         "31",
         "neutral",
         "@cynthia_123 i cant sleep"
        ],
        [
         "32",
         "neutral",
         "I missed the bl***y bus!!!!!!!!"
        ],
        [
         "33",
         "neutral",
         "feels strong contractions but wants to go out.  http://plurk.com/p/wxidk"
        ],
        [
         "34",
         "neutral",
         "SoCal!  stoked. or maybe not.. tomorrow"
        ],
        [
         "35",
         "neutral",
         "Screw you @davidbrussee! I only have 3 weeks..."
        ],
        [
         "36",
         "sadness",
         "@ether_radio yeah :S i feel all funny cause i haven't slept enough  i woke my mum up cause i was singing she's not impressed :S you?"
        ],
        [
         "37",
         "worry",
         "I need skott right now"
        ],
        [
         "38",
         "neutral",
         "has work this afternoon"
        ],
        [
         "39",
         "neutral",
         "@GABBYiSACTiVE Aw you would not unfollow me would you? Then I would cry"
        ],
        [
         "40",
         "happiness",
         "mmm much better day... so far! it's still quite early. last day of #uds"
        ],
        [
         "41",
         "fun",
         "@DavidArchie &lt;3 your gonna be the first  twitter ;) cause your amazing lol. come to canada  would do anything to see you perform"
        ],
        [
         "42",
         "worry",
         "just picked up her Blackberry from the middle of the street! Both she and it are crushed!"
        ],
        [
         "43",
         "worry",
         "Why do I have the feeling I should be packing and hitting for SFO around this time of the year? I think I'm missing something..."
        ],
        [
         "44",
         "empty",
         "@creyes middle school and elem. High schools will remain open for those who need credits to graduate. Cali is broken"
        ],
        [
         "45",
         "worry",
         "Bed!!!!!... its time,..... hope i go to school tomorrow, all though i don't feel very well right now"
        ],
        [
         "46",
         "worry",
         "@onscrn Ahh.  ... Well, I was hoping that I could learn some stuff on the way. ... Why not you and I work on separate things but also"
        ],
        [
         "47",
         "sadness",
         "I'm having a problem with my photo here in twitter amf!!!...can't see my face!"
        ],
        [
         "48",
         "neutral",
         "@jakeboyd, oh noooo!  if i blow a tire you're reaaaally going to have to send up some batman smoke."
        ],
        [
         "49",
         "neutral",
         "wnna take a bath!!!!"
        ]
       ],
       "shape": {
        "columns": 2,
        "rows": 40000
       }
      },
      "text/html": [
       "<div>\n",
       "<style scoped>\n",
       "    .dataframe tbody tr th:only-of-type {\n",
       "        vertical-align: middle;\n",
       "    }\n",
       "\n",
       "    .dataframe tbody tr th {\n",
       "        vertical-align: top;\n",
       "    }\n",
       "\n",
       "    .dataframe thead th {\n",
       "        text-align: right;\n",
       "    }\n",
       "</style>\n",
       "<table border=\"1\" class=\"dataframe\">\n",
       "  <thead>\n",
       "    <tr style=\"text-align: right;\">\n",
       "      <th></th>\n",
       "      <th>sentiment</th>\n",
       "      <th>content</th>\n",
       "    </tr>\n",
       "  </thead>\n",
       "  <tbody>\n",
       "    <tr>\n",
       "      <th>0</th>\n",
       "      <td>empty</td>\n",
       "      <td>@tiffanylue i know  i was listenin to bad habi...</td>\n",
       "    </tr>\n",
       "    <tr>\n",
       "      <th>1</th>\n",
       "      <td>sadness</td>\n",
       "      <td>Layin n bed with a headache  ughhhh...waitin o...</td>\n",
       "    </tr>\n",
       "    <tr>\n",
       "      <th>2</th>\n",
       "      <td>sadness</td>\n",
       "      <td>Funeral ceremony...gloomy friday...</td>\n",
       "    </tr>\n",
       "    <tr>\n",
       "      <th>3</th>\n",
       "      <td>enthusiasm</td>\n",
       "      <td>wants to hang out with friends SOON!</td>\n",
       "    </tr>\n",
       "    <tr>\n",
       "      <th>4</th>\n",
       "      <td>neutral</td>\n",
       "      <td>@dannycastillo We want to trade with someone w...</td>\n",
       "    </tr>\n",
       "    <tr>\n",
       "      <th>...</th>\n",
       "      <td>...</td>\n",
       "      <td>...</td>\n",
       "    </tr>\n",
       "    <tr>\n",
       "      <th>39995</th>\n",
       "      <td>neutral</td>\n",
       "      <td>@JohnLloydTaylor</td>\n",
       "    </tr>\n",
       "    <tr>\n",
       "      <th>39996</th>\n",
       "      <td>love</td>\n",
       "      <td>Happy Mothers Day  All my love</td>\n",
       "    </tr>\n",
       "    <tr>\n",
       "      <th>39997</th>\n",
       "      <td>love</td>\n",
       "      <td>Happy Mother's Day to all the mommies out ther...</td>\n",
       "    </tr>\n",
       "    <tr>\n",
       "      <th>39998</th>\n",
       "      <td>happiness</td>\n",
       "      <td>@niariley WASSUP BEAUTIFUL!!! FOLLOW ME!!  PEE...</td>\n",
       "    </tr>\n",
       "    <tr>\n",
       "      <th>39999</th>\n",
       "      <td>love</td>\n",
       "      <td>@mopedronin bullet train from tokyo    the gf ...</td>\n",
       "    </tr>\n",
       "  </tbody>\n",
       "</table>\n",
       "<p>40000 rows × 2 columns</p>\n",
       "</div>"
      ],
      "text/plain": [
       "        sentiment                                            content\n",
       "0           empty  @tiffanylue i know  i was listenin to bad habi...\n",
       "1         sadness  Layin n bed with a headache  ughhhh...waitin o...\n",
       "2         sadness                Funeral ceremony...gloomy friday...\n",
       "3      enthusiasm               wants to hang out with friends SOON!\n",
       "4         neutral  @dannycastillo We want to trade with someone w...\n",
       "...           ...                                                ...\n",
       "39995     neutral                                   @JohnLloydTaylor\n",
       "39996        love                     Happy Mothers Day  All my love\n",
       "39997        love  Happy Mother's Day to all the mommies out ther...\n",
       "39998   happiness  @niariley WASSUP BEAUTIFUL!!! FOLLOW ME!!  PEE...\n",
       "39999        love  @mopedronin bullet train from tokyo    the gf ...\n",
       "\n",
       "[40000 rows x 2 columns]"
      ]
     },
     "execution_count": 5,
     "metadata": {},
     "output_type": "execute_result"
    }
   ],
   "source": [
    "df.drop(columns=['tweet_id'], inplace=True)\n",
    "df"
   ]
  },
  {
   "cell_type": "code",
   "execution_count": 8,
   "id": "2a54277b",
   "metadata": {},
   "outputs": [],
   "source": [
    "final_df = df[df['sentiment'].isin(['happiness', 'sadness'])]"
   ]
  },
  {
   "cell_type": "code",
   "execution_count": 9,
   "id": "24d101fd",
   "metadata": {},
   "outputs": [
    {
     "data": {
      "application/vnd.microsoft.datawrangler.viewer.v0+json": {
       "columns": [
        {
         "name": "index",
         "rawType": "int64",
         "type": "integer"
        },
        {
         "name": "sentiment",
         "rawType": "object",
         "type": "string"
        },
        {
         "name": "content",
         "rawType": "object",
         "type": "string"
        }
       ],
       "conversionMethod": "pd.DataFrame",
       "ref": "a5332d0f-d055-435d-b716-ecd4c9b5a3b8",
       "rows": [
        [
         "1",
         "sadness",
         "Layin n bed with a headache  ughhhh...waitin on your call..."
        ],
        [
         "2",
         "sadness",
         "Funeral ceremony...gloomy friday..."
        ],
        [
         "6",
         "sadness",
         "I should be sleep, but im not! thinking about an old friend who I want. but he's married now. damn, &amp; he wants me 2! scandalous!"
        ],
        [
         "8",
         "sadness",
         "@charviray Charlene my love. I miss you"
        ],
        [
         "9",
         "sadness",
         "@kelcouch I'm sorry  at least it's Friday?"
        ],
        [
         "12",
         "sadness",
         "Ugh! I have to beat this stupid song to get to the next  rude!"
        ],
        [
         "13",
         "sadness",
         "@BrodyJenner if u watch the hills in london u will realise what tourture it is because were weeks and weeks late  i just watch itonlinelol"
        ],
        [
         "15",
         "sadness",
         "The storm is here and the electricity is gone"
        ],
        [
         "17",
         "sadness",
         "So sleepy again and it's not even that late. I fail once again."
        ],
        [
         "19",
         "sadness",
         "How are YOU convinced that I have always wanted you? What signals did I give off...damn I think I just lost another friend"
        ],
        [
         "24",
         "sadness",
         "so tired and i think i'm definitely going to get an ear infection.  going to bed &quot;early&quot; for once."
        ],
        [
         "26",
         "sadness",
         "@IsaacMascote  i'm sorry people are so rude to you, isaac, they should get some manners and know better than to be so lewd!"
        ],
        [
         "28",
         "sadness",
         "Fudge.... Just BS'd that whole paper.... So tired.... Ugh I hate school.....  time to sleep!!!!!!!!!!!"
        ],
        [
         "36",
         "sadness",
         "@ether_radio yeah :S i feel all funny cause i haven't slept enough  i woke my mum up cause i was singing she's not impressed :S you?"
        ],
        [
         "40",
         "happiness",
         "mmm much better day... so far! it's still quite early. last day of #uds"
        ],
        [
         "47",
         "sadness",
         "I'm having a problem with my photo here in twitter amf!!!...can't see my face!"
        ],
        [
         "59",
         "sadness",
         "@maternitytees Aww  Onward and upwards now, yay! Still sad to leave I bet."
        ],
        [
         "61",
         "sadness",
         "diesel yaris... 70mpg  so sad its not available in the US. That'd be awesome."
        ],
        [
         "62",
         "sadness",
         "I want to buy this great album but unfortunately i dont hav enuff funds  its &quot;long time noisy&quot;"
        ],
        [
         "63",
         "sadness",
         "@Pokinatcha  in all honesty...pain   blech."
        ],
        [
         "64",
         "sadness",
         "Ok ... the passengers ... no one is alive ... they're all dead ... you just don't know it til the end ... then you cry ..."
        ],
        [
         "67",
         "sadness",
         "@vincew @stefanyngo  i fell asleep on the beach and didn't put on enough sunscreen  lol"
        ],
        [
         "69",
         "happiness",
         "So great to see Oin &amp; Cynthia.  So happy.  Dinner was great, cute little place.  Too bad Oin got sick afterwards."
        ],
        [
         "77",
         "happiness",
         "@havingmysay  dude, that is my favorite sandwich place ever. ummm did you take PICTURES?"
        ],
        [
         "80",
         "sadness",
         "@RachelLock22 ohh thursday i have exams.. all day  what about wednesday ?"
        ],
        [
         "82",
         "sadness",
         "@gcrush @nopantsdance i was just thinking about how excited i am for you guys to move, but then i realized how sad i am to see you go."
        ],
        [
         "84",
         "sadness",
         "@artfuldodga I love those 'it'sakey' USB sticks. We only have the 4GB in Australia"
        ],
        [
         "95",
         "sadness",
         "@sweeetnspicy hiii im on my ipod...i cant fall asleep"
        ],
        [
         "96",
         "sadness",
         "dont wanna work 11-830 tomorrow  but i get paid"
        ],
        [
         "97",
         "sadness",
         "feels sad coz i wasnt able to play with the guys!!!  http://plurk.com/p/wxiux"
        ],
        [
         "103",
         "sadness",
         "Darn these allergies! I don't like this time of year because of this! I never used to have this problem either"
        ],
        [
         "106",
         "sadness",
         "@cayogial i wanted to come to BZ this summer :/ not so sure anymore... a teacher's life in the summer SUCKS"
        ],
        [
         "109",
         "sadness",
         "I wish she knew what she puts me through..She stole my heart, never gave it back..and occasionally she likes to be like look what I have!"
        ],
        [
         "116",
         "sadness",
         "@neesabear early happy day of birth in case I don't make it! Very tired from therapy today n just taking my medicine!  misshu! Love ya!"
        ],
        [
         "119",
         "sadness",
         "Allergies suck ducks nuts.     &lt;=====8@8=====&gt;"
        ],
        [
         "125",
         "sadness",
         "wonders why her Karma points turned into 0.00.  http://plurk.com/p/wxj54"
        ],
        [
         "126",
         "happiness",
         "Need to pack for CALI CALI! Cannot waittt! Thinking a glass of wine is in order to celebrate my weekend vaca. Still work 2morrow, tho."
        ],
        [
         "127",
         "sadness",
         "Is miserable  i feel like im gona cry  sux!"
        ],
        [
         "132",
         "sadness",
         "*sigh* I'm going to bed... I just don't feel right anymore..."
        ],
        [
         "135",
         "sadness",
         "Now I am depressed after watching so you think you can dance"
        ],
        [
         "136",
         "sadness",
         "Just cross 'cause I'm stuck twiddling my thumbs now, ugh"
        ],
        [
         "150",
         "sadness",
         "Last day working for the Uni today, sad times"
        ],
        [
         "162",
         "sadness",
         "is still missing her husband.    I really want him home."
        ],
        [
         "163",
         "sadness",
         "I miss my puppy"
        ],
        [
         "166",
         "sadness",
         "@nzdeany I've given up on pizza - kids would never let me have my fav  (the hot ones)"
        ],
        [
         "168",
         "sadness",
         "@BarbSchaefer yearling in pet home died... very sad for their whole family"
        ],
        [
         "171",
         "sadness",
         "@heresmyhello92 We hate change, so of course. We're fans for life. &lt;3 Oh and if we haven't met Rob by then something went horribly wrong."
        ],
        [
         "173",
         "sadness",
         "well fuck- this new pain med has an odd warning that actually applies to me. i can't take this. -chan is displeased."
        ],
        [
         "174",
         "sadness",
         "just uploaded my new blog... a painful story about an 80s year old man who cried because he wanted to die... very sad"
        ],
        [
         "183",
         "sadness",
         "I just saw pics from this past Thanksgiving and am sad because Grandma was in them."
        ]
       ],
       "shape": {
        "columns": 2,
        "rows": 10374
       }
      },
      "text/html": [
       "<div>\n",
       "<style scoped>\n",
       "    .dataframe tbody tr th:only-of-type {\n",
       "        vertical-align: middle;\n",
       "    }\n",
       "\n",
       "    .dataframe tbody tr th {\n",
       "        vertical-align: top;\n",
       "    }\n",
       "\n",
       "    .dataframe thead th {\n",
       "        text-align: right;\n",
       "    }\n",
       "</style>\n",
       "<table border=\"1\" class=\"dataframe\">\n",
       "  <thead>\n",
       "    <tr style=\"text-align: right;\">\n",
       "      <th></th>\n",
       "      <th>sentiment</th>\n",
       "      <th>content</th>\n",
       "    </tr>\n",
       "  </thead>\n",
       "  <tbody>\n",
       "    <tr>\n",
       "      <th>1</th>\n",
       "      <td>sadness</td>\n",
       "      <td>Layin n bed with a headache  ughhhh...waitin o...</td>\n",
       "    </tr>\n",
       "    <tr>\n",
       "      <th>2</th>\n",
       "      <td>sadness</td>\n",
       "      <td>Funeral ceremony...gloomy friday...</td>\n",
       "    </tr>\n",
       "    <tr>\n",
       "      <th>6</th>\n",
       "      <td>sadness</td>\n",
       "      <td>I should be sleep, but im not! thinking about ...</td>\n",
       "    </tr>\n",
       "    <tr>\n",
       "      <th>8</th>\n",
       "      <td>sadness</td>\n",
       "      <td>@charviray Charlene my love. I miss you</td>\n",
       "    </tr>\n",
       "    <tr>\n",
       "      <th>9</th>\n",
       "      <td>sadness</td>\n",
       "      <td>@kelcouch I'm sorry  at least it's Friday?</td>\n",
       "    </tr>\n",
       "    <tr>\n",
       "      <th>...</th>\n",
       "      <td>...</td>\n",
       "      <td>...</td>\n",
       "    </tr>\n",
       "    <tr>\n",
       "      <th>39986</th>\n",
       "      <td>happiness</td>\n",
       "      <td>going to watch boy in the striped pj's hope i ...</td>\n",
       "    </tr>\n",
       "    <tr>\n",
       "      <th>39987</th>\n",
       "      <td>happiness</td>\n",
       "      <td>gave the bikes a thorough wash, degrease it an...</td>\n",
       "    </tr>\n",
       "    <tr>\n",
       "      <th>39988</th>\n",
       "      <td>happiness</td>\n",
       "      <td>had SUCH and AMAZING time last night, McFly we...</td>\n",
       "    </tr>\n",
       "    <tr>\n",
       "      <th>39994</th>\n",
       "      <td>happiness</td>\n",
       "      <td>Succesfully following Tayla!!</td>\n",
       "    </tr>\n",
       "    <tr>\n",
       "      <th>39998</th>\n",
       "      <td>happiness</td>\n",
       "      <td>@niariley WASSUP BEAUTIFUL!!! FOLLOW ME!!  PEE...</td>\n",
       "    </tr>\n",
       "  </tbody>\n",
       "</table>\n",
       "<p>10374 rows × 2 columns</p>\n",
       "</div>"
      ],
      "text/plain": [
       "       sentiment                                            content\n",
       "1        sadness  Layin n bed with a headache  ughhhh...waitin o...\n",
       "2        sadness                Funeral ceremony...gloomy friday...\n",
       "6        sadness  I should be sleep, but im not! thinking about ...\n",
       "8        sadness            @charviray Charlene my love. I miss you\n",
       "9        sadness         @kelcouch I'm sorry  at least it's Friday?\n",
       "...          ...                                                ...\n",
       "39986  happiness  going to watch boy in the striped pj's hope i ...\n",
       "39987  happiness  gave the bikes a thorough wash, degrease it an...\n",
       "39988  happiness  had SUCH and AMAZING time last night, McFly we...\n",
       "39994  happiness                      Succesfully following Tayla!!\n",
       "39998  happiness  @niariley WASSUP BEAUTIFUL!!! FOLLOW ME!!  PEE...\n",
       "\n",
       "[10374 rows x 2 columns]"
      ]
     },
     "execution_count": 9,
     "metadata": {},
     "output_type": "execute_result"
    }
   ],
   "source": [
    "final_df"
   ]
  },
  {
   "cell_type": "code",
   "execution_count": 12,
   "id": "4b9b8583",
   "metadata": {},
   "outputs": [],
   "source": [
    "final_df.loc[:, 'sentiment'] = final_df['sentiment'].replace({\"happiness\": 1, \"sadness\": 0})\n"
   ]
  },
  {
   "cell_type": "code",
   "execution_count": 19,
   "id": "12ac4bac",
   "metadata": {},
   "outputs": [
    {
     "data": {
      "text/plain": [
       "sentiment\n",
       "1    5209\n",
       "0    5165\n",
       "Name: count, dtype: int64"
      ]
     },
     "execution_count": 19,
     "metadata": {},
     "output_type": "execute_result"
    }
   ],
   "source": [
    "final_df['sentiment'].value_counts()"
   ]
  },
  {
   "cell_type": "code",
   "execution_count": 20,
   "id": "80c5e5e7",
   "metadata": {},
   "outputs": [],
   "source": [
    "train_data, test_data = train_test_split(final_df, test_size=0.2, random_state=42)"
   ]
  },
  {
   "cell_type": "code",
   "execution_count": 21,
   "id": "9f888a4a",
   "metadata": {},
   "outputs": [
    {
     "name": "stderr",
     "output_type": "stream",
     "text": [
      "[nltk_data] Downloading package wordnet to\n",
      "[nltk_data]     C:\\Users\\Zabih\\AppData\\Roaming\\nltk_data...\n",
      "[nltk_data]   Package wordnet is already up-to-date!\n",
      "[nltk_data] Downloading package stopwords to\n",
      "[nltk_data]     C:\\Users\\Zabih\\AppData\\Roaming\\nltk_data...\n",
      "[nltk_data]   Unzipping corpora\\stopwords.zip.\n"
     ]
    },
    {
     "data": {
      "text/plain": [
       "True"
      ]
     },
     "execution_count": 21,
     "metadata": {},
     "output_type": "execute_result"
    }
   ],
   "source": [
    "nltk.download('wordnet')\n",
    "nltk.download('stopwords')"
   ]
  },
  {
   "cell_type": "code",
   "execution_count": 24,
   "id": "adc7b682",
   "metadata": {},
   "outputs": [
    {
     "name": "stderr",
     "output_type": "stream",
     "text": [
      "<>:18: SyntaxWarning: invalid escape sequence '\\]'\n",
      "<>:21: SyntaxWarning: invalid escape sequence '\\s'\n",
      "<>:18: SyntaxWarning: invalid escape sequence '\\]'\n",
      "<>:21: SyntaxWarning: invalid escape sequence '\\s'\n",
      "C:\\Users\\Zabih\\AppData\\Local\\Temp\\ipykernel_34104\\1198147394.py:18: SyntaxWarning: invalid escape sequence '\\]'\n",
      "  text = re.sub('[%s]' % re.escape(\"\"\"!\"#$%&'()*+,،-./:;<=>؟?@[\\]^_`{|}~\"\"\"), ' ', text)\n",
      "C:\\Users\\Zabih\\AppData\\Local\\Temp\\ipykernel_34104\\1198147394.py:21: SyntaxWarning: invalid escape sequence '\\s'\n",
      "  text = re.sub('\\s+', ' ', text)\n"
     ]
    }
   ],
   "source": [
    "def lemmatization(text):\n",
    "    lemmatizater = WordNetLemmatizer()\n",
    "    text = text.split()\n",
    "    text = [lemmatizater.lemmatize(y) for y in text]\n",
    "    return \" \".join(text)\n",
    "    \n",
    "\n",
    "def remove_stop_words(text):\n",
    "    text = \"\".join([i for i in text if not i.isdigit()])\n",
    "    return text\n",
    "\n",
    "def removing_numbers(text):\n",
    "    text = text.split()\n",
    "    text = [y.lower() for y in text]\n",
    "    return \" \".join(text)\n",
    "\n",
    "def lower_case(text):\n",
    "    text = re.sub('[%s]' % re.escape(\"\"\"!\"#$%&'()*+,،-./:;<=>؟?@[\\]^_`{|}~\"\"\"), ' ', text)\n",
    "    text = text.replace(\":\", \"\")\n",
    "\n",
    "    text = re.sub('\\s+', ' ', text)\n",
    "    text =  \" \".join(text.split())\n",
    "    return text.strip()\n",
    "\n",
    "    \n",
    "\n",
    "def removing_punctuations(text):\n",
    "    url_pattern = re.compile(r'https?://\\S+|www\\.\\S+')\n",
    "    return url_pattern.sub(r'', text)\n",
    "\n",
    "def removing_urls(text):\n",
    "    url_pattern = re.compile(r'https?://\\S+|www\\.\\S+')\n",
    "    return url_pattern.sub(r'', text)\n",
    "\n",
    "def remove_small_sentences(df):\n",
    "    for i in range(len(df)):\n",
    "        if len(df.text.iloc[i].split()) < 3:\n",
    "            df.text.iloc[i] = np.nan\n",
    "\n",
    "def normalize_text(df):\n",
    "    df.content=df.content.apply(lambda content : lower_case(content))\n",
    "    df.content=df.content.apply(lambda content : remove_stop_words(content))\n",
    "    df.content=df.content.apply(lambda content : removing_numbers(content))\n",
    "    df.content=df.content.apply(lambda content : removing_punctuations(content))\n",
    "    df.content=df.content.apply(lambda content : removing_urls(content))\n",
    "    df.content=df.content.apply(lambda content : lemmatization(content))\n",
    "    return df\n",
    "\n",
    "def normalized_sentence(sentence):\n",
    "    sentence= lower_case(sentence)\n",
    "    sentence= remove_stop_words(sentence)\n",
    "    sentence= removing_numbers(sentence)\n",
    "    sentence= removing_punctuations(sentence)\n",
    "    sentence= removing_urls(sentence)\n",
    "    sentence= lemmatization(sentence)\n",
    "    return sentence\n",
    "\n"
   ]
  },
  {
   "cell_type": "code",
   "execution_count": null,
   "id": "becfac7f",
   "metadata": {},
   "outputs": [],
   "source": []
  }
 ],
 "metadata": {
  "kernelspec": {
   "display_name": "base",
   "language": "python",
   "name": "python3"
  },
  "language_info": {
   "codemirror_mode": {
    "name": "ipython",
    "version": 3
   },
   "file_extension": ".py",
   "mimetype": "text/x-python",
   "name": "python",
   "nbconvert_exporter": "python",
   "pygments_lexer": "ipython3",
   "version": "3.12.7"
  }
 },
 "nbformat": 4,
 "nbformat_minor": 5
}
